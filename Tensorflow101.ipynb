{
 "cells": [
  {
   "cell_type": "code",
   "execution_count": 1,
   "metadata": {},
   "outputs": [],
   "source": [
    "import tensorflow as tf"
   ]
  },
  {
   "cell_type": "markdown",
   "metadata": {},
   "source": [
    "<br>\n",
    "<br>\n",
    "<br>\n",
    "<br>"
   ]
  },
  {
   "cell_type": "markdown",
   "metadata": {},
   "source": [
    "โจทย์คือเรามีfeature 3 ตัว เป็นเลขเรียงกัน labelคือเลขตัวถัดไป <br>\n",
    "<table>\n",
    "<tr><td>x1</td> <td>x2</td>  <td>x3</td>   <td>y</td> </tr>\n",
    "<tr><td>1</td> <td>2</td>  <td>3</td>   <td>4</td> </tr>\n",
    "<tr><td>2</td> <td>3</td>  <td>4</td>   <td>5</td> </tr>\n",
    "<tr><td>..</td> <td>..</td>  <td>..</td>   <td>..</td> </tr>    \n",
    "</table>"
   ]
  },
  {
   "cell_type": "markdown",
   "metadata": {},
   "source": [
    "เราอยากจะสร้างโมเดลNNแจ่มๆซักตัว ที่ใส่3ค่าแล้วได้ค่าถัดไปออกมา <br>\n",
    "เช่นใส่ 10 11 12 ได้ 13 ออกมา"
   ]
  },
  {
   "cell_type": "markdown",
   "metadata": {},
   "source": [
    "ก่อนอื่นเรามาสร้างtraining setกันก่อนเลย ชิวมาก มีแค่5sample"
   ]
  },
  {
   "cell_type": "code",
   "execution_count": 2,
   "metadata": {},
   "outputs": [],
   "source": [
    "X = tf.constant([[1.0,2.0,3.0],[2.0,3.0,4.0],[3.0,4.0,5.0],[4.0,5.0,6.0],[5.0,6.0,7.0]])\n",
    "y = tf.constant([4.0,5.0,6.0,7.0,8.0])"
   ]
  },
  {
   "cell_type": "code",
   "execution_count": 3,
   "metadata": {},
   "outputs": [
    {
     "name": "stdout",
     "output_type": "stream",
     "text": [
      "tf.Tensor([1. 2. 3.], shape=(3,), dtype=float32)\n",
      "tf.Tensor(4.0, shape=(), dtype=float32)\n"
     ]
    }
   ],
   "source": [
    "print(X[0])\n",
    "print(y[0])"
   ]
  },
  {
   "cell_type": "markdown",
   "metadata": {},
   "source": [
    "<br>\n",
    "<br>\n",
    "<br>\n",
    "<br>"
   ]
  },
  {
   "cell_type": "markdown",
   "metadata": {},
   "source": [
    "สร้างโมเดลนู้บๆมีneuronตัวเดียว (มีแค่ 3 weight 1 bias)"
   ]
  },
  {
   "cell_type": "code",
   "execution_count": 4,
   "metadata": {},
   "outputs": [],
   "source": [
    "class SingleNeuron(tf.keras.Model):\n",
    "    def __init__(self):\n",
    "        super().__init__()                     # inherit สิ่งตั่งต่างมาจากtf.keras.Model\n",
    "        self.layer1 = tf.keras.layers.Dense(1) # สร้างเลเยอร์ขึ้นมาอันนึง\n",
    "    \n",
    "    def call(self, x):                         # method ตัวนี้เอาไว้กำหนดการไหลของข้อมูลว่ามันต้องผ่านอะไรบ้าง\n",
    "        output = self.layer1(x)                # เราเอาข้อมูลไปผ่านlayer1 ได้ค่าๆนึงออกมา ใส่ไว้ในตัวแปรoutput\n",
    "        return output"
   ]
  },
  {
   "cell_type": "code",
   "execution_count": 5,
   "metadata": {},
   "outputs": [],
   "source": [
    "mse = tf.keras.losses.MeanSquaredError()       # loss functionยังไงล่ะเด้อ เอาไว้วัดว่าค่าจริงกับค่าที่โมเดลมันpredictออกมามันต่างกันขนาดไหน"
   ]
  },
  {
   "cell_type": "code",
   "execution_count": 6,
   "metadata": {},
   "outputs": [],
   "source": [
    "optimizer = tf.keras.optimizers.Adam(learning_rate=0.1) # อันนี้เป็นตัวที่จะเปลี่ยนค่าของweightให้เรา"
   ]
  },
  {
   "cell_type": "markdown",
   "metadata": {},
   "source": [
    "<br>\n",
    "<br>\n",
    "<br>\n",
    "<br>"
   ]
  },
  {
   "cell_type": "code",
   "execution_count": 7,
   "metadata": {},
   "outputs": [],
   "source": [
    "model = SingleNeuron() #สร้างโมเดลจากคลาสที่เราเขียนไว้"
   ]
  },
  {
   "cell_type": "markdown",
   "metadata": {},
   "source": [
    "ลองเอาค่าXยัดใส่โมเดลดู จะรู้ว่าตอนนี้มันยังโง่เหมือนวิน"
   ]
  },
  {
   "cell_type": "code",
   "execution_count": 8,
   "metadata": {},
   "outputs": [
    {
     "data": {
      "text/plain": [
       "<tf.Tensor: shape=(5, 1), dtype=float32, numpy=\n",
       "array([[3.0236084],\n",
       "       [3.6894963],\n",
       "       [4.355384 ],\n",
       "       [5.0212727],\n",
       "       [5.68716  ]], dtype=float32)>"
      ]
     },
     "execution_count": 8,
     "metadata": {},
     "output_type": "execute_result"
    }
   ],
   "source": [
    "model(X)"
   ]
  },
  {
   "cell_type": "markdown",
   "metadata": {},
   "source": [
    "<i>จริงๆมันควรจะได้ 4 5 6 7 8</i>"
   ]
  },
  {
   "cell_type": "markdown",
   "metadata": {},
   "source": [
    "<br>\n",
    "<br>\n",
    "<br>"
   ]
  },
  {
   "cell_type": "markdown",
   "metadata": {},
   "source": [
    "เราเลยลองoptimizeโมเดลดู"
   ]
  },
  {
   "cell_type": "code",
   "execution_count": 9,
   "metadata": {},
   "outputs": [
    {
     "data": {
      "text/plain": [
       "<tf.Variable 'UnreadVariable' shape=() dtype=int64, numpy=1>"
      ]
     },
     "execution_count": 9,
     "metadata": {},
     "output_type": "execute_result"
    }
   ],
   "source": [
    "with tf.GradientTape() as tape: # tapeมันจะคอยจำให้เราว่าเกิดการคำนวณอะไรขึ้นบ้าง\n",
    "    y_pred = model(X)\n",
    "    loss = mse(y, y_pred)\n",
    "gradient = tape.gradient(loss, model.trainable_variables)           #Backpropagation(ดิฟlossเทียบกับweightแต่ละตัว)\n",
    "optimizer.apply_gradients(zip(gradient, model.trainable_variables)) #Optimize parameter(ยิ่งgradientมากยิ่งเปลี่ยนweightให้เยอะ)"
   ]
  },
  {
   "cell_type": "code",
   "execution_count": 10,
   "metadata": {},
   "outputs": [
    {
     "data": {
      "text/plain": [
       "<tf.Tensor: shape=(5, 1), dtype=float32, numpy=\n",
       "array([[3.723608 ],\n",
       "       [4.689496 ],\n",
       "       [5.6553836],\n",
       "       [6.6212716],\n",
       "       [7.5871596]], dtype=float32)>"
      ]
     },
     "execution_count": 10,
     "metadata": {},
     "output_type": "execute_result"
    }
   ],
   "source": [
    "model(X) #ยังคงโง่"
   ]
  },
  {
   "cell_type": "markdown",
   "metadata": {},
   "source": [
    "<br>\n",
    "<br>\n",
    "<br>\n",
    "<br>"
   ]
  },
  {
   "cell_type": "markdown",
   "metadata": {},
   "source": [
    "ขี้เกียจเขียนมือเลยวนลูปเอา"
   ]
  },
  {
   "cell_type": "code",
   "execution_count": 11,
   "metadata": {},
   "outputs": [
    {
     "name": "stdout",
     "output_type": "stream",
     "text": [
      "Epoch 10 : loss = 0.12108761072158813\n",
      "Epoch 20 : loss = 0.22126635909080505\n",
      "Epoch 30 : loss = 0.14142709970474243\n",
      "Epoch 40 : loss = 0.0047951340675354\n",
      "Epoch 50 : loss = 0.0234390702098608\n",
      "Epoch 60 : loss = 0.008184382691979408\n",
      "Epoch 70 : loss = 0.001567853381857276\n",
      "Epoch 80 : loss = 0.0003311033360660076\n",
      "Epoch 90 : loss = 0.0001335216948064044\n",
      "Epoch 100 : loss = 8.848532161209732e-05\n",
      "Epoch 110 : loss = 5.4272055422188714e-05\n",
      "Epoch 120 : loss = 1.9154345864080824e-05\n",
      "Epoch 130 : loss = 1.3996809684613254e-06\n",
      "Epoch 140 : loss = 7.086175628501223e-07\n",
      "Epoch 150 : loss = 9.549870583214215e-07\n",
      "Epoch 160 : loss = 1.5899150440645826e-08\n",
      "Epoch 170 : loss = 1.0874509825953282e-07\n",
      "Epoch 180 : loss = 5.8062594732177786e-09\n",
      "Epoch 190 : loss = 1.4438103157488058e-08\n",
      "Epoch 200 : loss = 8.185452315956354e-12\n"
     ]
    }
   ],
   "source": [
    "for i in range(200):\n",
    "    with tf.GradientTape() as tape:\n",
    "        y_pred = model(X)\n",
    "        loss = mse(y, y_pred)\n",
    "    gradient = tape.gradient(loss, model.trainable_variables) \n",
    "    optimizer.apply_gradients(zip(gradient, model.trainable_variables))\n",
    "    if i % 10 == 0:\n",
    "        print(f'Epoch {i+10} : loss = {loss}')"
   ]
  },
  {
   "cell_type": "code",
   "execution_count": 12,
   "metadata": {},
   "outputs": [
    {
     "data": {
      "text/plain": [
       "array([[4.000028 ],\n",
       "       [5.000034 ],\n",
       "       [6.0000405],\n",
       "       [7.000047 ],\n",
       "       [8.000053 ]], dtype=float32)"
      ]
     },
     "execution_count": 12,
     "metadata": {},
     "output_type": "execute_result"
    }
   ],
   "source": [
    "model(X).numpy()"
   ]
  },
  {
   "cell_type": "markdown",
   "metadata": {},
   "source": [
    "โอเคเก่งมาก !!!!"
   ]
  },
  {
   "cell_type": "markdown",
   "metadata": {},
   "source": [
    "ไหนลองเอาไปใช้กับข้อมูลอื่นดู"
   ]
  },
  {
   "cell_type": "code",
   "execution_count": 13,
   "metadata": {},
   "outputs": [
    {
     "data": {
      "text/plain": [
       "array([[13.000087]], dtype=float32)"
      ]
     },
     "execution_count": 13,
     "metadata": {},
     "output_type": "execute_result"
    }
   ],
   "source": [
    "unseen_data = tf.constant([[10.0,11.0,12.0]])\n",
    "\n",
    "model(unseen_data).numpy()"
   ]
  },
  {
   "cell_type": "markdown",
   "metadata": {},
   "source": [
    "เวรี่กูด"
   ]
  }
 ],
 "metadata": {
  "kernelspec": {
   "display_name": "Python 3",
   "language": "python",
   "name": "python3"
  },
  "language_info": {
   "codemirror_mode": {
    "name": "ipython",
    "version": 3
   },
   "file_extension": ".py",
   "mimetype": "text/x-python",
   "name": "python",
   "nbconvert_exporter": "python",
   "pygments_lexer": "ipython3",
   "version": "3.8.3"
  }
 },
 "nbformat": 4,
 "nbformat_minor": 4
}
